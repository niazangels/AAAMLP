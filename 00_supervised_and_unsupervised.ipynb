{
  "nbformat": 4,
  "nbformat_minor": 0,
  "metadata": {
    "colab": {
      "name": "00-supervised-and-unsupervised.ipynb",
      "provenance": [],
      "collapsed_sections": [],
      "authorship_tag": "ABX9TyMGOZquBYjP2ubH2sY73knh",
      "include_colab_link": true
    },
    "kernelspec": {
      "display_name": "Python 3",
      "name": "python3"
    },
    "language_info": {
      "name": "python"
    }
  },
  "cells": [
    {
      "cell_type": "markdown",
      "metadata": {
        "id": "view-in-github",
        "colab_type": "text"
      },
      "source": [
        "<a href=\"https://colab.research.google.com/github/niazangels/approaching-almost/blob/main/00_supervised_and_unsupervised.ipynb\" target=\"_parent\"><img src=\"https://colab.research.google.com/assets/colab-badge.svg\" alt=\"Open In Colab\"/></a>"
      ]
    },
    {
      "cell_type": "markdown",
      "metadata": {
        "id": "ddk21YvoHlof"
      },
      "source": [
        "# Supervised and Unsupervised Problems"
      ]
    },
    {
      "cell_type": "code",
      "metadata": {
        "id": "GL9GoC9chHcM"
      },
      "source": [
        "import matplotlib.pyplot as plt\n",
        "import numpy as np\n",
        "import pandas as pd\n",
        "import seaborn as sns\n",
        "\n",
        "from sklearn import datasets, manifold"
      ],
      "execution_count": 1,
      "outputs": []
    },
    {
      "cell_type": "code",
      "metadata": {
        "id": "y7mAh2UFhWhj"
      },
      "source": [
        "pixel_values, targets = datasets.fetch_openml(\n",
        "    'mnist_784', version=1, return_X_y=True\n",
        ")"
      ],
      "execution_count": 2,
      "outputs": []
    },
    {
      "cell_type": "code",
      "metadata": {
        "colab": {
          "base_uri": "https://localhost:8080/"
        },
        "id": "_voJJv4dhnjp",
        "outputId": "96273b93-05a1-495b-d57d-4f89343ce89c"
      },
      "source": [
        "pixel_values.shape, targets.shape"
      ],
      "execution_count": 3,
      "outputs": [
        {
          "output_type": "execute_result",
          "data": {
            "text/plain": [
              "((70000, 784), (70000,))"
            ]
          },
          "metadata": {},
          "execution_count": 3
        }
      ]
    },
    {
      "cell_type": "code",
      "metadata": {
        "colab": {
          "base_uri": "https://localhost:8080/"
        },
        "id": "e22qqgZGhpAp",
        "outputId": "9740a4c5-c9fe-404e-826c-7d23dc329a60"
      },
      "source": [
        "targets.dtype"
      ],
      "execution_count": 4,
      "outputs": [
        {
          "output_type": "execute_result",
          "data": {
            "text/plain": [
              "dtype('O')"
            ]
          },
          "metadata": {},
          "execution_count": 4
        }
      ]
    },
    {
      "cell_type": "code",
      "metadata": {
        "colab": {
          "base_uri": "https://localhost:8080/"
        },
        "id": "nGw-mHi8hyFw",
        "outputId": "bad13749-6126-4eba-997a-5ec7ccbd95b7"
      },
      "source": [
        "targets[:5]"
      ],
      "execution_count": 5,
      "outputs": [
        {
          "output_type": "execute_result",
          "data": {
            "text/plain": [
              "array(['5', '0', '4', '1', '9'], dtype=object)"
            ]
          },
          "metadata": {},
          "execution_count": 5
        }
      ]
    },
    {
      "cell_type": "code",
      "metadata": {
        "id": "v3b9GzShh175"
      },
      "source": [
        "targets = targets.astype(int)"
      ],
      "execution_count": 6,
      "outputs": []
    },
    {
      "cell_type": "code",
      "metadata": {
        "colab": {
          "base_uri": "https://localhost:8080/"
        },
        "id": "pwuEyKrth4qA",
        "outputId": "0b804e76-ae36-4e3f-eea7-6ec0be010f41"
      },
      "source": [
        "targets[:5]"
      ],
      "execution_count": 7,
      "outputs": [
        {
          "output_type": "execute_result",
          "data": {
            "text/plain": [
              "array([5, 0, 4, 1, 9])"
            ]
          },
          "metadata": {},
          "execution_count": 7
        }
      ]
    },
    {
      "cell_type": "code",
      "metadata": {
        "colab": {
          "base_uri": "https://localhost:8080/",
          "height": 283
        },
        "id": "xplZCbJ1h534",
        "outputId": "c23a9928-4481-42b5-c49f-06e540b33c9e"
      },
      "source": [
        "single_image = pixel_values[1, :].reshape(28,28)\n",
        "plt.imshow(single_image, cmap='gray')"
      ],
      "execution_count": 8,
      "outputs": [
        {
          "output_type": "execute_result",
          "data": {
            "text/plain": [
              "<matplotlib.image.AxesImage at 0x7f117878e3d0>"
            ]
          },
          "metadata": {},
          "execution_count": 8
        },
        {
          "output_type": "display_data",
          "data": {
            "image/png": "[encoded data removed]",
            "text/plain": [
              "<Figure size 432x288 with 1 Axes>"
            ]
          },
          "metadata": {
            "needs_background": "light"
          }
        }
      ]
    },
    {
      "cell_type": "code",
      "metadata": {
        "id": "lx3fc3eSiGpY"
      },
      "source": [
        "tsne = manifold.TSNE(n_components=2, random_state=42)\n",
        "transformed_data = tsne.fit_transform(pixel_values[:3000])"
      ],
      "execution_count": 9,
      "outputs": []
    },
    {
      "cell_type": "code",
      "metadata": {
        "colab": {
          "base_uri": "https://localhost:8080/"
        },
        "id": "r1ivX_4BioLF",
        "outputId": "6bb7c8bb-a087-4e64-e710-077541215546"
      },
      "source": [
        "transformed_data.shape"
      ],
      "execution_count": 10,
      "outputs": [
        {
          "output_type": "execute_result",
          "data": {
            "text/plain": [
              "(3000, 2)"
            ]
          },
          "metadata": {},
          "execution_count": 10
        }
      ]
    },
    {
      "cell_type": "code",
      "metadata": {
        "id": "NoKEwJqwiZPR"
      },
      "source": [
        "tsne_df = pd.DataFrame(\n",
        "    np.column_stack((transformed_data, targets[:3000])),\n",
        "    columns = \"x y targets\".split()\n",
        ")"
      ],
      "execution_count": 11,
      "outputs": []
    },
    {
      "cell_type": "code",
      "metadata": {
        "colab": {
          "base_uri": "https://localhost:8080/",
          "height": 206
        },
        "id": "AiMoQe85i6gn",
        "outputId": "8a224946-2b7f-4a6c-d7bf-20b0338b4c77"
      },
      "source": [
        "tsne_df.head()"
      ],
      "execution_count": 12,
      "outputs": [
        {
          "output_type": "execute_result",
          "data": {
            "text/html": [
              "<div>\n",
              "<style scoped>\n",
              "    .dataframe tbody tr th:only-of-type {\n",
              "        vertical-align: middle;\n",
              "    }\n",
              "\n",
              "    .dataframe tbody tr th {\n",
              "        vertical-align: top;\n",
              "    }\n",
              "\n",
              "    .dataframe thead th {\n",
              "        text-align: right;\n",
              "    }\n",
              "</style>\n",
              "<table border=\"1\" class=\"dataframe\">\n",
              "  <thead>\n",
              "    <tr style=\"text-align: right;\">\n",
              "      <th></th>\n",
              "      <th>x</th>\n",
              "      <th>y</th>\n",
              "      <th>targets</th>\n",
              "    </tr>\n",
              "  </thead>\n",
              "  <tbody>\n",
              "    <tr>\n",
              "      <th>0</th>\n",
              "      <td>-5.281551</td>\n",
              "      <td>-28.952768</td>\n",
              "      <td>5.0</td>\n",
              "    </tr>\n",
              "    <tr>\n",
              "      <th>1</th>\n",
              "      <td>-26.105896</td>\n",
              "      <td>-68.069321</td>\n",
              "      <td>0.0</td>\n",
              "    </tr>\n",
              "    <tr>\n",
              "      <th>2</th>\n",
              "      <td>-42.503582</td>\n",
              "      <td>35.580391</td>\n",
              "      <td>4.0</td>\n",
              "    </tr>\n",
              "    <tr>\n",
              "      <th>3</th>\n",
              "      <td>38.893967</td>\n",
              "      <td>26.663395</td>\n",
              "      <td>1.0</td>\n",
              "    </tr>\n",
              "    <tr>\n",
              "      <th>4</th>\n",
              "      <td>-14.770573</td>\n",
              "      <td>35.433247</td>\n",
              "      <td>9.0</td>\n",
              "    </tr>\n",
              "  </tbody>\n",
              "</table>\n",
              "</div>"
            ],
            "text/plain": [
              "           x          y  targets\n",
              "0  -5.281551 -28.952768      5.0\n",
              "1 -26.105896 -68.069321      0.0\n",
              "2 -42.503582  35.580391      4.0\n",
              "3  38.893967  26.663395      1.0\n",
              "4 -14.770573  35.433247      9.0"
            ]
          },
          "metadata": {},
          "execution_count": 12
        }
      ]
    },
    {
      "cell_type": "code",
      "metadata": {
        "colab": {
          "base_uri": "https://localhost:8080/",
          "height": 206
        },
        "id": "XlGgUPfpjmWX",
        "outputId": "577658d2-254d-4f5e-b9fd-3f4210852965"
      },
      "source": [
        "tsne_df['targets'] = tsne_df['targets'].astype(int)\n",
        "tsne_df.head()"
      ],
      "execution_count": 13,
      "outputs": [
        {
          "output_type": "execute_result",
          "data": {
            "text/html": [
              "<div>\n",
              "<style scoped>\n",
              "    .dataframe tbody tr th:only-of-type {\n",
              "        vertical-align: middle;\n",
              "    }\n",
              "\n",
              "    .dataframe tbody tr th {\n",
              "        vertical-align: top;\n",
              "    }\n",
              "\n",
              "    .dataframe thead th {\n",
              "        text-align: right;\n",
              "    }\n",
              "</style>\n",
              "<table border=\"1\" class=\"dataframe\">\n",
              "  <thead>\n",
              "    <tr style=\"text-align: right;\">\n",
              "      <th></th>\n",
              "      <th>x</th>\n",
              "      <th>y</th>\n",
              "      <th>targets</th>\n",
              "    </tr>\n",
              "  </thead>\n",
              "  <tbody>\n",
              "    <tr>\n",
              "      <th>0</th>\n",
              "      <td>-5.281551</td>\n",
              "      <td>-28.952768</td>\n",
              "      <td>5</td>\n",
              "    </tr>\n",
              "    <tr>\n",
              "      <th>1</th>\n",
              "      <td>-26.105896</td>\n",
              "      <td>-68.069321</td>\n",
              "      <td>0</td>\n",
              "    </tr>\n",
              "    <tr>\n",
              "      <th>2</th>\n",
              "      <td>-42.503582</td>\n",
              "      <td>35.580391</td>\n",
              "      <td>4</td>\n",
              "    </tr>\n",
              "    <tr>\n",
              "      <th>3</th>\n",
              "      <td>38.893967</td>\n",
              "      <td>26.663395</td>\n",
              "      <td>1</td>\n",
              "    </tr>\n",
              "    <tr>\n",
              "      <th>4</th>\n",
              "      <td>-14.770573</td>\n",
              "      <td>35.433247</td>\n",
              "      <td>9</td>\n",
              "    </tr>\n",
              "  </tbody>\n",
              "</table>\n",
              "</div>"
            ],
            "text/plain": [
              "           x          y  targets\n",
              "0  -5.281551 -28.952768        5\n",
              "1 -26.105896 -68.069321        0\n",
              "2 -42.503582  35.580391        4\n",
              "3  38.893967  26.663395        1\n",
              "4 -14.770573  35.433247        9"
            ]
          },
          "metadata": {},
          "execution_count": 13
        }
      ]
    },
    {
      "cell_type": "code",
      "metadata": {
        "colab": {
          "base_uri": "https://localhost:8080/",
          "height": 675
        },
        "id": "F0xJJ5bzjv3O",
        "outputId": "d63163b5-5266-41d2-8fdf-ca5a7cf18d07"
      },
      "source": [
        "grid = sns.FacetGrid(tsne_df, hue=\"targets\", height=9)\n",
        "grid.map(plt.scatter, \"x\", \"y\").add_legend()"
      ],
      "execution_count": 14,
      "outputs": [
        {
          "output_type": "execute_result",
          "data": {
            "text/plain": [
              "<seaborn.axisgrid.FacetGrid at 0x7f117874b950>"
            ]
          },
          "metadata": {},
          "execution_count": 14
        },
        {
          "output_type": "display_data",
          "data": {
            "image/png": "[encoded data removed]",
            "text/plain": [
              "<Figure size 691.625x648 with 1 Axes>"
            ]
          },
          "metadata": {
            "needs_background": "light"
          }
        }
      ]
    },
    {
      "cell_type": "markdown",
      "metadata": {
        "id": "MZC9YcAzkLOf"
      },
      "source": [
        "# Cross Validation"
      ]
    },
    {
      "cell_type": "code",
      "metadata": {
        "colab": {
          "base_uri": "https://localhost:8080/",
          "height": 261
        },
        "id": "88VguAAolfFT",
        "outputId": "00b96444-063c-4376-9cb9-91b83edbe234"
      },
      "source": [
        "df = pd.read_csv(\"https://archive.ics.uci.edu/ml/machine-learning-databases/wine-quality/winequality-red.csv\", sep=';')\n",
        "df.head()"
      ],
      "execution_count": 15,
      "outputs": [
        {
          "output_type": "execute_result",
          "data": {
            "text/html": [
              "<div>\n",
              "<style scoped>\n",
              "    .dataframe tbody tr th:only-of-type {\n",
              "        vertical-align: middle;\n",
              "    }\n",
              "\n",
              "    .dataframe tbody tr th {\n",
              "        vertical-align: top;\n",
              "    }\n",
              "\n",
              "    .dataframe thead th {\n",
              "        text-align: right;\n",
              "    }\n",
              "</style>\n",
              "<table border=\"1\" class=\"dataframe\">\n",
              "  <thead>\n",
              "    <tr style=\"text-align: right;\">\n",
              "      <th></th>\n",
              "      <th>fixed acidity</th>\n",
              "      <th>volatile acidity</th>\n",
              "      <th>citric acid</th>\n",
              "      <th>residual sugar</th>\n",
              "      <th>chlorides</th>\n",
              "      <th>free sulfur dioxide</th>\n",
              "      <th>total sulfur dioxide</th>\n",
              "      <th>density</th>\n",
              "      <th>pH</th>\n",
              "      <th>sulphates</th>\n",
              "      <th>alcohol</th>\n",
              "      <th>quality</th>\n",
              "    </tr>\n",
              "  </thead>\n",
              "  <tbody>\n",
              "    <tr>\n",
              "      <th>0</th>\n",
              "      <td>7.4</td>\n",
              "      <td>0.70</td>\n",
              "      <td>0.00</td>\n",
              "      <td>1.9</td>\n",
              "      <td>0.076</td>\n",
              "      <td>11.0</td>\n",
              "      <td>34.0</td>\n",
              "      <td>0.9978</td>\n",
              "      <td>3.51</td>\n",
              "      <td>0.56</td>\n",
              "      <td>9.4</td>\n",
              "      <td>5</td>\n",
              "    </tr>\n",
              "    <tr>\n",
              "      <th>1</th>\n",
              "      <td>7.8</td>\n",
              "      <td>0.88</td>\n",
              "      <td>0.00</td>\n",
              "      <td>2.6</td>\n",
              "      <td>0.098</td>\n",
              "      <td>25.0</td>\n",
              "      <td>67.0</td>\n",
              "      <td>0.9968</td>\n",
              "      <td>3.20</td>\n",
              "      <td>0.68</td>\n",
              "      <td>9.8</td>\n",
              "      <td>5</td>\n",
              "    </tr>\n",
              "    <tr>\n",
              "      <th>2</th>\n",
              "      <td>7.8</td>\n",
              "      <td>0.76</td>\n",
              "      <td>0.04</td>\n",
              "      <td>2.3</td>\n",
              "      <td>0.092</td>\n",
              "      <td>15.0</td>\n",
              "      <td>54.0</td>\n",
              "      <td>0.9970</td>\n",
              "      <td>3.26</td>\n",
              "      <td>0.65</td>\n",
              "      <td>9.8</td>\n",
              "      <td>5</td>\n",
              "    </tr>\n",
              "    <tr>\n",
              "      <th>3</th>\n",
              "      <td>11.2</td>\n",
              "      <td>0.28</td>\n",
              "      <td>0.56</td>\n",
              "      <td>1.9</td>\n",
              "      <td>0.075</td>\n",
              "      <td>17.0</td>\n",
              "      <td>60.0</td>\n",
              "      <td>0.9980</td>\n",
              "      <td>3.16</td>\n",
              "      <td>0.58</td>\n",
              "      <td>9.8</td>\n",
              "      <td>6</td>\n",
              "    </tr>\n",
              "    <tr>\n",
              "      <th>4</th>\n",
              "      <td>7.4</td>\n",
              "      <td>0.70</td>\n",
              "      <td>0.00</td>\n",
              "      <td>1.9</td>\n",
              "      <td>0.076</td>\n",
              "      <td>11.0</td>\n",
              "      <td>34.0</td>\n",
              "      <td>0.9978</td>\n",
              "      <td>3.51</td>\n",
              "      <td>0.56</td>\n",
              "      <td>9.4</td>\n",
              "      <td>5</td>\n",
              "    </tr>\n",
              "  </tbody>\n",
              "</table>\n",
              "</div>"
            ],
            "text/plain": [
              "   fixed acidity  volatile acidity  citric acid  ...  sulphates  alcohol  quality\n",
              "0            7.4              0.70         0.00  ...       0.56      9.4        5\n",
              "1            7.8              0.88         0.00  ...       0.68      9.8        5\n",
              "2            7.8              0.76         0.04  ...       0.65      9.8        5\n",
              "3           11.2              0.28         0.56  ...       0.58      9.8        6\n",
              "4            7.4              0.70         0.00  ...       0.56      9.4        5\n",
              "\n",
              "[5 rows x 12 columns]"
            ]
          },
          "metadata": {},
          "execution_count": 15
        }
      ]
    },
    {
      "cell_type": "code",
      "metadata": {
        "colab": {
          "base_uri": "https://localhost:8080/"
        },
        "id": "b_4xkG5ZlkhK",
        "outputId": "ebe86987-c718-4f57-ffad-81e59be192c5"
      },
      "source": [
        "df['quality'].unique()"
      ],
      "execution_count": 16,
      "outputs": [
        {
          "output_type": "execute_result",
          "data": {
            "text/plain": [
              "array([5, 6, 7, 4, 8, 3])"
            ]
          },
          "metadata": {},
          "execution_count": 16
        }
      ]
    },
    {
      "cell_type": "code",
      "metadata": {
        "colab": {
          "base_uri": "https://localhost:8080/"
        },
        "id": "WkQuaTXaluCq",
        "outputId": "2dd2a8a4-d8f9-42ba-a978-6c76a66f4176"
      },
      "source": [
        "quality_mapping = dict(zip(sorted(df['quality'].unique()), range(6)))\n",
        "quality_mapping"
      ],
      "execution_count": 17,
      "outputs": [
        {
          "output_type": "execute_result",
          "data": {
            "text/plain": [
              "{3: 0, 4: 1, 5: 2, 6: 3, 7: 4, 8: 5}"
            ]
          },
          "metadata": {},
          "execution_count": 17
        }
      ]
    },
    {
      "cell_type": "code",
      "metadata": {
        "colab": {
          "base_uri": "https://localhost:8080/"
        },
        "id": "C4P8svxclyDC",
        "outputId": "09c6b189-3c0a-4455-b179-ce0eaf9b5099"
      },
      "source": [
        "df[\"quality\"] = df[\"quality\"].map(quality_mapping)\n",
        "df[\"quality\"]"
      ],
      "execution_count": 18,
      "outputs": [
        {
          "output_type": "execute_result",
          "data": {
            "text/plain": [
              "0       2\n",
              "1       2\n",
              "2       2\n",
              "3       3\n",
              "4       2\n",
              "       ..\n",
              "1594    2\n",
              "1595    3\n",
              "1596    3\n",
              "1597    2\n",
              "1598    3\n",
              "Name: quality, Length: 1599, dtype: int64"
            ]
          },
          "metadata": {},
          "execution_count": 18
        }
      ]
    },
    {
      "cell_type": "code",
      "metadata": {
        "colab": {
          "base_uri": "https://localhost:8080/",
          "height": 261
        },
        "id": "8oyWCqSAI51F",
        "outputId": "afd92aa4-77ff-4df6-af2c-5520ab45fa3e"
      },
      "source": [
        "df.head()"
      ],
      "execution_count": 19,
      "outputs": [
        {
          "output_type": "execute_result",
          "data": {
            "text/html": [
              "<div>\n",
              "<style scoped>\n",
              "    .dataframe tbody tr th:only-of-type {\n",
              "        vertical-align: middle;\n",
              "    }\n",
              "\n",
              "    .dataframe tbody tr th {\n",
              "        vertical-align: top;\n",
              "    }\n",
              "\n",
              "    .dataframe thead th {\n",
              "        text-align: right;\n",
              "    }\n",
              "</style>\n",
              "<table border=\"1\" class=\"dataframe\">\n",
              "  <thead>\n",
              "    <tr style=\"text-align: right;\">\n",
              "      <th></th>\n",
              "      <th>fixed acidity</th>\n",
              "      <th>volatile acidity</th>\n",
              "      <th>citric acid</th>\n",
              "      <th>residual sugar</th>\n",
              "      <th>chlorides</th>\n",
              "      <th>free sulfur dioxide</th>\n",
              "      <th>total sulfur dioxide</th>\n",
              "      <th>density</th>\n",
              "      <th>pH</th>\n",
              "      <th>sulphates</th>\n",
              "      <th>alcohol</th>\n",
              "      <th>quality</th>\n",
              "    </tr>\n",
              "  </thead>\n",
              "  <tbody>\n",
              "    <tr>\n",
              "      <th>0</th>\n",
              "      <td>7.4</td>\n",
              "      <td>0.70</td>\n",
              "      <td>0.00</td>\n",
              "      <td>1.9</td>\n",
              "      <td>0.076</td>\n",
              "      <td>11.0</td>\n",
              "      <td>34.0</td>\n",
              "      <td>0.9978</td>\n",
              "      <td>3.51</td>\n",
              "      <td>0.56</td>\n",
              "      <td>9.4</td>\n",
              "      <td>2</td>\n",
              "    </tr>\n",
              "    <tr>\n",
              "      <th>1</th>\n",
              "      <td>7.8</td>\n",
              "      <td>0.88</td>\n",
              "      <td>0.00</td>\n",
              "      <td>2.6</td>\n",
              "      <td>0.098</td>\n",
              "      <td>25.0</td>\n",
              "      <td>67.0</td>\n",
              "      <td>0.9968</td>\n",
              "      <td>3.20</td>\n",
              "      <td>0.68</td>\n",
              "      <td>9.8</td>\n",
              "      <td>2</td>\n",
              "    </tr>\n",
              "    <tr>\n",
              "      <th>2</th>\n",
              "      <td>7.8</td>\n",
              "      <td>0.76</td>\n",
              "      <td>0.04</td>\n",
              "      <td>2.3</td>\n",
              "      <td>0.092</td>\n",
              "      <td>15.0</td>\n",
              "      <td>54.0</td>\n",
              "      <td>0.9970</td>\n",
              "      <td>3.26</td>\n",
              "      <td>0.65</td>\n",
              "      <td>9.8</td>\n",
              "      <td>2</td>\n",
              "    </tr>\n",
              "    <tr>\n",
              "      <th>3</th>\n",
              "      <td>11.2</td>\n",
              "      <td>0.28</td>\n",
              "      <td>0.56</td>\n",
              "      <td>1.9</td>\n",
              "      <td>0.075</td>\n",
              "      <td>17.0</td>\n",
              "      <td>60.0</td>\n",
              "      <td>0.9980</td>\n",
              "      <td>3.16</td>\n",
              "      <td>0.58</td>\n",
              "      <td>9.8</td>\n",
              "      <td>3</td>\n",
              "    </tr>\n",
              "    <tr>\n",
              "      <th>4</th>\n",
              "      <td>7.4</td>\n",
              "      <td>0.70</td>\n",
              "      <td>0.00</td>\n",
              "      <td>1.9</td>\n",
              "      <td>0.076</td>\n",
              "      <td>11.0</td>\n",
              "      <td>34.0</td>\n",
              "      <td>0.9978</td>\n",
              "      <td>3.51</td>\n",
              "      <td>0.56</td>\n",
              "      <td>9.4</td>\n",
              "      <td>2</td>\n",
              "    </tr>\n",
              "  </tbody>\n",
              "</table>\n",
              "</div>"
            ],
            "text/plain": [
              "   fixed acidity  volatile acidity  citric acid  ...  sulphates  alcohol  quality\n",
              "0            7.4              0.70         0.00  ...       0.56      9.4        2\n",
              "1            7.8              0.88         0.00  ...       0.68      9.8        2\n",
              "2            7.8              0.76         0.04  ...       0.65      9.8        2\n",
              "3           11.2              0.28         0.56  ...       0.58      9.8        3\n",
              "4            7.4              0.70         0.00  ...       0.56      9.4        2\n",
              "\n",
              "[5 rows x 12 columns]"
            ]
          },
          "metadata": {},
          "execution_count": 19
        }
      ]
    },
    {
      "cell_type": "code",
      "metadata": {
        "id": "kS534BLkIxHW"
      },
      "source": [
        "df = df.sample(frac=1.).reset_index(drop=True)"
      ],
      "execution_count": 20,
      "outputs": []
    },
    {
      "cell_type": "code",
      "metadata": {
        "colab": {
          "base_uri": "https://localhost:8080/",
          "height": 261
        },
        "id": "-bDxnjiFI8IN",
        "outputId": "07c8a8e9-797d-4ea0-94a0-1d4312c79a09"
      },
      "source": [
        "df.head()"
      ],
      "execution_count": 21,
      "outputs": [
        {
          "output_type": "execute_result",
          "data": {
            "text/html": [
              "<div>\n",
              "<style scoped>\n",
              "    .dataframe tbody tr th:only-of-type {\n",
              "        vertical-align: middle;\n",
              "    }\n",
              "\n",
              "    .dataframe tbody tr th {\n",
              "        vertical-align: top;\n",
              "    }\n",
              "\n",
              "    .dataframe thead th {\n",
              "        text-align: right;\n",
              "    }\n",
              "</style>\n",
              "<table border=\"1\" class=\"dataframe\">\n",
              "  <thead>\n",
              "    <tr style=\"text-align: right;\">\n",
              "      <th></th>\n",
              "      <th>fixed acidity</th>\n",
              "      <th>volatile acidity</th>\n",
              "      <th>citric acid</th>\n",
              "      <th>residual sugar</th>\n",
              "      <th>chlorides</th>\n",
              "      <th>free sulfur dioxide</th>\n",
              "      <th>total sulfur dioxide</th>\n",
              "      <th>density</th>\n",
              "      <th>pH</th>\n",
              "      <th>sulphates</th>\n",
              "      <th>alcohol</th>\n",
              "      <th>quality</th>\n",
              "    </tr>\n",
              "  </thead>\n",
              "  <tbody>\n",
              "    <tr>\n",
              "      <th>0</th>\n",
              "      <td>10.5</td>\n",
              "      <td>0.360</td>\n",
              "      <td>0.47</td>\n",
              "      <td>2.2</td>\n",
              "      <td>0.074</td>\n",
              "      <td>9.0</td>\n",
              "      <td>23.0</td>\n",
              "      <td>0.99638</td>\n",
              "      <td>3.23</td>\n",
              "      <td>0.76</td>\n",
              "      <td>12.000000</td>\n",
              "      <td>3</td>\n",
              "    </tr>\n",
              "    <tr>\n",
              "      <th>1</th>\n",
              "      <td>6.9</td>\n",
              "      <td>0.840</td>\n",
              "      <td>0.21</td>\n",
              "      <td>4.1</td>\n",
              "      <td>0.074</td>\n",
              "      <td>16.0</td>\n",
              "      <td>65.0</td>\n",
              "      <td>0.99842</td>\n",
              "      <td>3.53</td>\n",
              "      <td>0.72</td>\n",
              "      <td>9.233333</td>\n",
              "      <td>3</td>\n",
              "    </tr>\n",
              "    <tr>\n",
              "      <th>2</th>\n",
              "      <td>7.6</td>\n",
              "      <td>0.630</td>\n",
              "      <td>0.03</td>\n",
              "      <td>2.0</td>\n",
              "      <td>0.080</td>\n",
              "      <td>27.0</td>\n",
              "      <td>43.0</td>\n",
              "      <td>0.99578</td>\n",
              "      <td>3.44</td>\n",
              "      <td>0.64</td>\n",
              "      <td>10.900000</td>\n",
              "      <td>3</td>\n",
              "    </tr>\n",
              "    <tr>\n",
              "      <th>3</th>\n",
              "      <td>7.2</td>\n",
              "      <td>0.360</td>\n",
              "      <td>0.46</td>\n",
              "      <td>2.1</td>\n",
              "      <td>0.074</td>\n",
              "      <td>24.0</td>\n",
              "      <td>44.0</td>\n",
              "      <td>0.99534</td>\n",
              "      <td>3.40</td>\n",
              "      <td>0.85</td>\n",
              "      <td>11.000000</td>\n",
              "      <td>4</td>\n",
              "    </tr>\n",
              "    <tr>\n",
              "      <th>4</th>\n",
              "      <td>6.8</td>\n",
              "      <td>0.915</td>\n",
              "      <td>0.29</td>\n",
              "      <td>4.8</td>\n",
              "      <td>0.070</td>\n",
              "      <td>15.0</td>\n",
              "      <td>39.0</td>\n",
              "      <td>0.99577</td>\n",
              "      <td>3.53</td>\n",
              "      <td>0.54</td>\n",
              "      <td>11.100000</td>\n",
              "      <td>2</td>\n",
              "    </tr>\n",
              "  </tbody>\n",
              "</table>\n",
              "</div>"
            ],
            "text/plain": [
              "   fixed acidity  volatile acidity  citric acid  ...  sulphates    alcohol  quality\n",
              "0           10.5             0.360         0.47  ...       0.76  12.000000        3\n",
              "1            6.9             0.840         0.21  ...       0.72   9.233333        3\n",
              "2            7.6             0.630         0.03  ...       0.64  10.900000        3\n",
              "3            7.2             0.360         0.46  ...       0.85  11.000000        4\n",
              "4            6.8             0.915         0.29  ...       0.54  11.100000        2\n",
              "\n",
              "[5 rows x 12 columns]"
            ]
          },
          "metadata": {},
          "execution_count": 21
        }
      ]
    },
    {
      "cell_type": "code",
      "metadata": {
        "colab": {
          "base_uri": "https://localhost:8080/"
        },
        "id": "7WAeGaZcJCsV",
        "outputId": "a5fa95c6-8e0c-49fb-eceb-f573a66aca01"
      },
      "source": [
        "df.shape"
      ],
      "execution_count": 22,
      "outputs": [
        {
          "output_type": "execute_result",
          "data": {
            "text/plain": [
              "(1599, 12)"
            ]
          },
          "metadata": {},
          "execution_count": 22
        }
      ]
    },
    {
      "cell_type": "code",
      "metadata": {
        "id": "Kvc_Mmt2JF5V"
      },
      "source": [
        "df_train = df.head(1000)\n",
        "df_test = df.tail(599)"
      ],
      "execution_count": 23,
      "outputs": []
    },
    {
      "cell_type": "code",
      "metadata": {
        "id": "WLyhEEGZJMh1"
      },
      "source": [
        "from sklearn import tree, metrics"
      ],
      "execution_count": 24,
      "outputs": []
    },
    {
      "cell_type": "code",
      "metadata": {
        "id": "GRD2FdSBJRvV"
      },
      "source": [
        "clf = tree.DecisionTreeClassifier(max_depth=3)"
      ],
      "execution_count": 25,
      "outputs": []
    },
    {
      "cell_type": "code",
      "metadata": {
        "colab": {
          "base_uri": "https://localhost:8080/"
        },
        "id": "1SvnF-PrJWAV",
        "outputId": "c71cd862-e997-411e-a972-74dd42e84121"
      },
      "source": [
        "df.columns"
      ],
      "execution_count": 26,
      "outputs": [
        {
          "output_type": "execute_result",
          "data": {
            "text/plain": [
              "Index(['fixed acidity', 'volatile acidity', 'citric acid', 'residual sugar',\n",
              "       'chlorides', 'free sulfur dioxide', 'total sulfur dioxide', 'density',\n",
              "       'pH', 'sulphates', 'alcohol', 'quality'],\n",
              "      dtype='object')"
            ]
          },
          "metadata": {},
          "execution_count": 26
        }
      ]
    },
    {
      "cell_type": "code",
      "metadata": {
        "colab": {
          "base_uri": "https://localhost:8080/"
        },
        "id": "li7WhogjJenG",
        "outputId": "cd6d779e-0e50-4d55-fbd5-bcb5f8f71d0b"
      },
      "source": [
        "df.columns[:-1]"
      ],
      "execution_count": 27,
      "outputs": [
        {
          "output_type": "execute_result",
          "data": {
            "text/plain": [
              "Index(['fixed acidity', 'volatile acidity', 'citric acid', 'residual sugar',\n",
              "       'chlorides', 'free sulfur dioxide', 'total sulfur dioxide', 'density',\n",
              "       'pH', 'sulphates', 'alcohol'],\n",
              "      dtype='object')"
            ]
          },
          "metadata": {},
          "execution_count": 27
        }
      ]
    },
    {
      "cell_type": "code",
      "metadata": {
        "colab": {
          "base_uri": "https://localhost:8080/"
        },
        "id": "FYfGrUsGJXh0",
        "outputId": "7f6e61c4-eb56-4443-ba86-1fa237ee1dee"
      },
      "source": [
        "# Fit model\n",
        "cols = df.columns[:-1]\n",
        "clf.fit(\n",
        "    df_train[cols],\n",
        "    df_train['quality']\n",
        ")"
      ],
      "execution_count": 28,
      "outputs": [
        {
          "output_type": "execute_result",
          "data": {
            "text/plain": [
              "DecisionTreeClassifier(ccp_alpha=0.0, class_weight=None, criterion='gini',\n",
              "                       max_depth=3, max_features=None, max_leaf_nodes=None,\n",
              "                       min_impurity_decrease=0.0, min_impurity_split=None,\n",
              "                       min_samples_leaf=1, min_samples_split=2,\n",
              "                       min_weight_fraction_leaf=0.0, presort='deprecated',\n",
              "                       random_state=None, splitter='best')"
            ]
          },
          "metadata": {},
          "execution_count": 28
        }
      ]
    },
    {
      "cell_type": "code",
      "metadata": {
        "colab": {
          "base_uri": "https://localhost:8080/"
        },
        "id": "5y_i89JtJmEl",
        "outputId": "5098fb8a-5f50-400a-c990-d9139246287f"
      },
      "source": [
        "train_predictions = clf.predict(df_train[cols])\n",
        "test_predictions = clf.predict(df_test[cols])\n",
        "\n",
        "train_accuracy = metrics.accuracy_score(y_pred=train_predictions, y_true=df_train['quality'])\n",
        "test_accuracy = metrics.accuracy_score(y_pred=test_predictions, y_true=df_test['quality'])\n",
        "\n",
        "train_accuracy, test_accuracy"
      ],
      "execution_count": 29,
      "outputs": [
        {
          "output_type": "execute_result",
          "data": {
            "text/plain": [
              "(0.572, 0.5191986644407346)"
            ]
          },
          "metadata": {},
          "execution_count": 29
        }
      ]
    },
    {
      "cell_type": "markdown",
      "metadata": {
        "id": "6zN8g-W-IP7G"
      },
      "source": [
        "## Calculate accuracies for different values of max_depth and plot it"
      ]
    },
    {
      "cell_type": "code",
      "metadata": {
        "id": "wdZxgqc1l1ei"
      },
      "source": [
        "import matplotlib\n",
        "matplotlib.rc('xtick', labelsize=20)\n",
        "matplotlib.rc('ytick', labelsize=20)"
      ],
      "execution_count": 30,
      "outputs": []
    },
    {
      "cell_type": "code",
      "metadata": {
        "id": "vfa0b6I1Gl2E"
      },
      "source": [
        "train_accuracies = [.5]\n",
        "test_accuracies = [.5]"
      ],
      "execution_count": 31,
      "outputs": []
    },
    {
      "cell_type": "code",
      "metadata": {
        "id": "bEf3DlbRIi5G"
      },
      "source": [
        "# Evaluate models\n",
        "\n",
        "for depth in range(1, 25):\n",
        "    clf = tree.DecisionTreeClassifier(max_depth=depth)\n",
        "    clf.fit(df_train[cols], df_train['quality'])\n",
        "\n",
        "    train_accuracy = metrics.accuracy_score(df_train['quality'], clf.predict(df_train[cols]))\n",
        "    test_accuracy = metrics.accuracy_score(df_test['quality'], clf.predict(df_test[cols]))\n",
        "\n",
        "    train_accuracies.append(train_accuracy)\n",
        "    test_accuracies.append(test_accuracy)"
      ],
      "execution_count": 32,
      "outputs": []
    },
    {
      "cell_type": "code",
      "metadata": {
        "colab": {
          "base_uri": "https://localhost:8080/",
          "height": 460
        },
        "id": "dYPN53SZL5KE",
        "outputId": "22561723-8842-4e9a-eaa1-853ff6e50c91"
      },
      "source": [
        "plt.figure(figsize=(10, 7))\n",
        "sns.set_style(\"whitegrid\")\n",
        "\n",
        "plt.plot(train_accuracies, label=\"train_accuracy\")\n",
        "plt.plot(test_accuracies, label=\"test_accuracy\")\n",
        "\n",
        "plt.legend(loc=\"upper left\")\n",
        "\n",
        "plt.xlabel(\"max_depth\", size=20)\n",
        "plt.xlabel(\"accuracy\", size=20)\n",
        "\n",
        "plt.show()"
      ],
      "execution_count": 33,
      "outputs": [
        {
          "output_type": "display_data",
          "data": {
            "image/png": "[encoded data removed]",
            "text/plain": [
              "<Figure size 720x504 with 1 Axes>"
            ]
          },
          "metadata": {
            "needs_background": "light"
          }
        }
      ]
    },
    {
      "cell_type": "code",
      "metadata": {
        "colab": {
          "base_uri": "https://localhost:8080/"
        },
        "id": "uzRdM6zTMI4F",
        "outputId": "94423ffe-8499-48c1-cdcf-c46b4dfbeffc"
      },
      "source": [
        "# Best accuracy\n",
        "\n",
        "def argmax(L):\n",
        "    return L.index(max(L))\n",
        "\n",
        "# Note that these are indexes, so max_depth is this + 1\n",
        "argmax(train_accuracies), argmax(test_accuracies)"
      ],
      "execution_count": 34,
      "outputs": [
        {
          "output_type": "execute_result",
          "data": {
            "text/plain": [
              "(16, 6)"
            ]
          },
          "metadata": {},
          "execution_count": 34
        }
      ]
    },
    {
      "cell_type": "markdown",
      "metadata": {
        "id": "WNTnWFv0M4Qa"
      },
      "source": [
        "Types of cross validation\n",
        "- k-fold cross-validation \n",
        "- stratified k-fold cross-validation \n",
        "-  hold-out based validation \n",
        "- leave-one-out cross-validation \n",
        "- group k-fold cross-validation"
      ]
    },
    {
      "cell_type": "markdown",
      "metadata": {
        "id": "I07vWuJMPAPd"
      },
      "source": [
        "## k-fold cross validation"
      ]
    },
    {
      "cell_type": "code",
      "metadata": {
        "id": "scKCY982PmlN"
      },
      "source": [
        "df_kfold = df.copy()"
      ],
      "execution_count": 35,
      "outputs": []
    },
    {
      "cell_type": "code",
      "metadata": {
        "id": "SAOJWC8lQOZ5"
      },
      "source": [
        "from sklearn import model_selection"
      ],
      "execution_count": 36,
      "outputs": []
    },
    {
      "cell_type": "code",
      "metadata": {
        "id": "jtKgHLmSPtPI"
      },
      "source": [
        "# Fill\n",
        "df['kfold'] = -1\n",
        "\n",
        "# Shuffle\n",
        "df_kfold = df.sample(frac=1).reset_index(drop=True)\n",
        "\n",
        "kf = model_selection.KFold(n_splits=5)\n",
        "\n",
        "for fold, (train, val) in enumerate(kf.split(X=df_kfold)):\n",
        "    df_kfold.loc[val, 'kfold'] = fold"
      ],
      "execution_count": 37,
      "outputs": []
    },
    {
      "cell_type": "code",
      "metadata": {
        "colab": {
          "base_uri": "https://localhost:8080/"
        },
        "id": "AA8sNGHIQu6I",
        "outputId": "8bebd29d-8443-4eca-c92c-eb96d851d1b2"
      },
      "source": [
        "df_kfold.head()['kfold']"
      ],
      "execution_count": 38,
      "outputs": [
        {
          "output_type": "execute_result",
          "data": {
            "text/plain": [
              "0    0\n",
              "1    0\n",
              "2    0\n",
              "3    0\n",
              "4    0\n",
              "Name: kfold, dtype: int64"
            ]
          },
          "metadata": {},
          "execution_count": 38
        }
      ]
    },
    {
      "cell_type": "code",
      "metadata": {
        "colab": {
          "base_uri": "https://localhost:8080/"
        },
        "id": "Vj9ITBwXQ87Q",
        "outputId": "0f60826a-2e37-4b12-8fba-a60e077004ee"
      },
      "source": [
        "df_kfold.tail()['kfold']"
      ],
      "execution_count": 39,
      "outputs": [
        {
          "output_type": "execute_result",
          "data": {
            "text/plain": [
              "1594    4\n",
              "1595    4\n",
              "1596    4\n",
              "1597    4\n",
              "1598    4\n",
              "Name: kfold, dtype: int64"
            ]
          },
          "metadata": {},
          "execution_count": 39
        }
      ]
    },
    {
      "cell_type": "markdown",
      "metadata": {
        "id": "nmVKdtOtQ-ao"
      },
      "source": [
        "## Stratified k-fold\n",
        "- Best for skewed datasets"
      ]
    },
    {
      "cell_type": "code",
      "metadata": {
        "id": "jhjL-F4ySsCP"
      },
      "source": [
        "# del df_stratified"
      ],
      "execution_count": 40,
      "outputs": []
    },
    {
      "cell_type": "code",
      "metadata": {
        "id": "1K4h8YlwRbVP"
      },
      "source": [
        "df_strat = df.copy()\n",
        "df_strat = df_strat.sample(frac=1.).reset_index(drop=True)\n",
        "\n",
        "df_strat['kfold'] = -1\n",
        "\n",
        "stratified_kf = model_selection.StratifiedKFold(n_splits=5)\n",
        "\n",
        "for fold, (train, val) in enumerate(stratified_kf.split(X=df_strat, y=df_strat['quality'])):\n",
        "    df_strat['kfold'] = fold\n"
      ],
      "execution_count": 41,
      "outputs": []
    },
    {
      "cell_type": "code",
      "metadata": {
        "colab": {
          "base_uri": "https://localhost:8080/"
        },
        "id": "baKRVER9S7wO",
        "outputId": "107e1a19-0ff8-41a1-cc29-3667fcee7fe7"
      },
      "source": [
        "df_strat.head()['quality']"
      ],
      "execution_count": 42,
      "outputs": [
        {
          "output_type": "execute_result",
          "data": {
            "text/plain": [
              "0    3\n",
              "1    2\n",
              "2    2\n",
              "3    3\n",
              "4    3\n",
              "Name: quality, dtype: int64"
            ]
          },
          "metadata": {},
          "execution_count": 42
        }
      ]
    },
    {
      "cell_type": "code",
      "metadata": {
        "colab": {
          "base_uri": "https://localhost:8080/"
        },
        "id": "zOSwa5AKSdhI",
        "outputId": "72a0961d-0675-46da-e653-93041f5f2f99"
      },
      "source": [
        "df_strat.tail()['quality']"
      ],
      "execution_count": 43,
      "outputs": [
        {
          "output_type": "execute_result",
          "data": {
            "text/plain": [
              "1594    2\n",
              "1595    2\n",
              "1596    2\n",
              "1597    3\n",
              "1598    2\n",
              "Name: quality, dtype: int64"
            ]
          },
          "metadata": {},
          "execution_count": 43
        }
      ]
    },
    {
      "cell_type": "code",
      "metadata": {
        "colab": {
          "base_uri": "https://localhost:8080/",
          "height": 478
        },
        "id": "f9d3TqjvS6q2",
        "outputId": "09bfb4f2-fc51-483a-b808-8ede62966378"
      },
      "source": [
        "# Plot counts\n",
        "plt.figure(figsize=(10,7))\n",
        "sns.countplot(x='quality', data=df_strat)\n",
        "plt.xlabel('quality', fontsize=20)\n",
        "plt.ylabel('count', fontsize=20)"
      ],
      "execution_count": 44,
      "outputs": [
        {
          "output_type": "execute_result",
          "data": {
            "text/plain": [
              "Text(0, 0.5, 'count')"
            ]
          },
          "metadata": {},
          "execution_count": 44
        },
        {
          "output_type": "display_data",
          "data": {
            "image/png": "[encoded data removed]",
            "text/plain": [
              "<Figure size 720x504 with 1 Axes>"
            ]
          },
          "metadata": {}
        }
      ]
    },
    {
      "cell_type": "markdown",
      "metadata": {
        "id": "w1BXD2iXTQj2"
      },
      "source": [
        "In many cases, we have to deal with **small datasets** and creating big validation sets \n",
        "means losing a lot of data for the model to learn. In those cases, we can opt for a \n",
        "type of k-fold cross-validation where **k=N**, where N is the number of samples in the \n",
        "dataset. "
      ]
    },
    {
      "cell_type": "markdown",
      "metadata": {
        "id": "HGtFCm45UK6i"
      },
      "source": [
        "### Using cross validation in regression problems\n",
        "\n",
        "We can use all the cross-validation techniques mentioned above for regression \n",
        "problems **except for stratified k-fold**. That is we cannot use stratified k-fold directly, \n",
        "but there are ways to change the problem a bit so that we can use stratified k-fold \n",
        "for regression problem"
      ]
    },
    {
      "cell_type": "markdown",
      "metadata": {
        "id": "pcM5QFhjUaa0"
      },
      "source": [
        "If using stratified kfold, if your samples > 10k, you can split into 10 or 20 bins. Otherwise, you can use Sturge's rule"
      ]
    },
    {
      "cell_type": "code",
      "metadata": {
        "colab": {
          "base_uri": "https://localhost:8080/"
        },
        "id": "tM9tBD2gWC90",
        "outputId": "b9169779-5a4d-45f5-b950-e79343c64717"
      },
      "source": [
        "import math\n",
        "\n",
        "math.log(4, 2)"
      ],
      "execution_count": 45,
      "outputs": [
        {
          "output_type": "execute_result",
          "data": {
            "text/plain": [
              "2.0"
            ]
          },
          "metadata": {},
          "execution_count": 45
        }
      ]
    },
    {
      "cell_type": "code",
      "metadata": {
        "id": "fHgHeV4pV6pM"
      },
      "source": [
        "def sturge_rule(samples):\n",
        "    return 1 + np.log2(samples)"
      ],
      "execution_count": 46,
      "outputs": []
    },
    {
      "cell_type": "code",
      "metadata": {
        "id": "h-s87xUpW55_"
      },
      "source": [
        "# np.arange(1, 10_000, 10)"
      ],
      "execution_count": 47,
      "outputs": []
    },
    {
      "cell_type": "code",
      "metadata": {
        "colab": {
          "base_uri": "https://localhost:8080/",
          "height": 455
        },
        "id": "NGtFATpfWSW1",
        "outputId": "4efc1749-3c0a-40bb-87f1-10791e34a01b"
      },
      "source": [
        "plt.figure(figsize=(10,7))\n",
        "plt.plot(sturge_rule(np.arange(1, 10_000, 10)),np.arange(1, 10_000, 10), )"
      ],
      "execution_count": 48,
      "outputs": [
        {
          "output_type": "execute_result",
          "data": {
            "text/plain": [
              "[<matplotlib.lines.Line2D at 0x7f116ccf86d0>]"
            ]
          },
          "metadata": {},
          "execution_count": 48
        },
        {
          "output_type": "display_data",
          "data": {
            "image/png": "[encoded data removed]",
            "text/plain": [
              "<Figure size 720x504 with 1 Axes>"
            ]
          },
          "metadata": {}
        }
      ]
    },
    {
      "cell_type": "markdown",
      "metadata": {
        "id": "vecRm-oDWjht"
      },
      "source": [
        "### Stratified split with a sample regression dataset"
      ]
    },
    {
      "cell_type": "code",
      "metadata": {
        "id": "Zmz8krLVgnCr"
      },
      "source": [
        "from sklearn import datasets, model_selection"
      ],
      "execution_count": 49,
      "outputs": []
    },
    {
      "cell_type": "code",
      "metadata": {
        "id": "T4zEucSUhKAG"
      },
      "source": [
        "X, y = datasets.make_regression(n_samples=15_000, n_features=100, n_targets=1)"
      ],
      "execution_count": 50,
      "outputs": []
    },
    {
      "cell_type": "code",
      "metadata": {
        "colab": {
          "base_uri": "https://localhost:8080/"
        },
        "id": "OTi65iOghVpX",
        "outputId": "6f7e7a14-47a5-430b-dcd0-ff93d2ba6df0"
      },
      "source": [
        "int(sturge_rule(len(X)))"
      ],
      "execution_count": 53,
      "outputs": [
        {
          "output_type": "execute_result",
          "data": {
            "text/plain": [
              "14"
            ]
          },
          "metadata": {},
          "execution_count": 53
        }
      ]
    },
    {
      "cell_type": "code",
      "metadata": {
        "colab": {
          "base_uri": "https://localhost:8080/"
        },
        "id": "DkDzWoZGiay0",
        "outputId": "8c77f57f-d46f-4547-941e-ef2c05bbffea"
      },
      "source": [
        "pd.cut(pd.DataFrame(np.arange(100))[0], bins=10, labels=False)"
      ],
      "execution_count": 59,
      "outputs": [
        {
          "output_type": "execute_result",
          "data": {
            "text/plain": [
              "0     0\n",
              "1     0\n",
              "2     0\n",
              "3     0\n",
              "4     0\n",
              "     ..\n",
              "95    9\n",
              "96    9\n",
              "97    9\n",
              "98    9\n",
              "99    9\n",
              "Name: 0, Length: 100, dtype: int64"
            ]
          },
          "metadata": {},
          "execution_count": 59
        }
      ]
    },
    {
      "cell_type": "code",
      "metadata": {
        "id": "Di49nrymg6qS"
      },
      "source": [
        "def create_folds(data):\n",
        "    data['kfold'] = -1\n",
        "    data = data.sample(frac=1).reset_index(drop=True)\n",
        "    num_bins = int(sturge_rule(len(data)))\n",
        "\n",
        "    data[\"bins\"] = pd.cut(data['target'], bins=num_bins, labels=False)\n",
        "    \n",
        "    kf = model_selection.StratifiedKFold(n_splits=5, )\n",
        "\n",
        "    for fold, (train, val) in enumerate(kf.split(X=data, y=data['bins'].values)):\n",
        "        data.loc[val, 'kfold'] = fold\n",
        "\n",
        "    data.drop('bins', axis=1, inplace=True)\n",
        "    return data\n",
        "\n",
        "# Body\n",
        "X, y = datasets.make_regression(n_samples=150_000, n_features=100, n_targets=1)\n",
        "df = pd.DataFrame(X)\n",
        "df['target'] = y\n",
        "df = create_folds(df)"
      ],
      "execution_count": 67,
      "outputs": []
    },
    {
      "cell_type": "code",
      "metadata": {
        "colab": {
          "base_uri": "https://localhost:8080/",
          "height": 256
        },
        "id": "1NPrQXoOnsue",
        "outputId": "fdb7e282-a426-4340-d17e-b7ff81b98534"
      },
      "source": [
        "df.head()"
      ],
      "execution_count": 68,
      "outputs": [
        {
          "output_type": "execute_result",
          "data": {
            "text/html": [
              "<div>\n",
              "<style scoped>\n",
              "    .dataframe tbody tr th:only-of-type {\n",
              "        vertical-align: middle;\n",
              "    }\n",
              "\n",
              "    .dataframe tbody tr th {\n",
              "        vertical-align: top;\n",
              "    }\n",
              "\n",
              "    .dataframe thead th {\n",
              "        text-align: right;\n",
              "    }\n",
              "</style>\n",
              "<table border=\"1\" class=\"dataframe\">\n",
              "  <thead>\n",
              "    <tr style=\"text-align: right;\">\n",
              "      <th></th>\n",
              "      <th>0</th>\n",
              "      <th>1</th>\n",
              "      <th>2</th>\n",
              "      <th>3</th>\n",
              "      <th>4</th>\n",
              "      <th>5</th>\n",
              "      <th>6</th>\n",
              "      <th>7</th>\n",
              "      <th>8</th>\n",
              "      <th>9</th>\n",
              "      <th>10</th>\n",
              "      <th>11</th>\n",
              "      <th>12</th>\n",
              "      <th>13</th>\n",
              "      <th>14</th>\n",
              "      <th>15</th>\n",
              "      <th>16</th>\n",
              "      <th>17</th>\n",
              "      <th>18</th>\n",
              "      <th>19</th>\n",
              "      <th>20</th>\n",
              "      <th>21</th>\n",
              "      <th>22</th>\n",
              "      <th>23</th>\n",
              "      <th>24</th>\n",
              "      <th>25</th>\n",
              "      <th>26</th>\n",
              "      <th>27</th>\n",
              "      <th>28</th>\n",
              "      <th>29</th>\n",
              "      <th>30</th>\n",
              "      <th>31</th>\n",
              "      <th>32</th>\n",
              "      <th>33</th>\n",
              "      <th>34</th>\n",
              "      <th>35</th>\n",
              "      <th>36</th>\n",
              "      <th>37</th>\n",
              "      <th>38</th>\n",
              "      <th>39</th>\n",
              "      <th>...</th>\n",
              "      <th>62</th>\n",
              "      <th>63</th>\n",
              "      <th>64</th>\n",
              "      <th>65</th>\n",
              "      <th>66</th>\n",
              "      <th>67</th>\n",
              "      <th>68</th>\n",
              "      <th>69</th>\n",
              "      <th>70</th>\n",
              "      <th>71</th>\n",
              "      <th>72</th>\n",
              "      <th>73</th>\n",
              "      <th>74</th>\n",
              "      <th>75</th>\n",
              "      <th>76</th>\n",
              "      <th>77</th>\n",
              "      <th>78</th>\n",
              "      <th>79</th>\n",
              "      <th>80</th>\n",
              "      <th>81</th>\n",
              "      <th>82</th>\n",
              "      <th>83</th>\n",
              "      <th>84</th>\n",
              "      <th>85</th>\n",
              "      <th>86</th>\n",
              "      <th>87</th>\n",
              "      <th>88</th>\n",
              "      <th>89</th>\n",
              "      <th>90</th>\n",
              "      <th>91</th>\n",
              "      <th>92</th>\n",
              "      <th>93</th>\n",
              "      <th>94</th>\n",
              "      <th>95</th>\n",
              "      <th>96</th>\n",
              "      <th>97</th>\n",
              "      <th>98</th>\n",
              "      <th>99</th>\n",
              "      <th>target</th>\n",
              "      <th>kfold</th>\n",
              "    </tr>\n",
              "  </thead>\n",
              "  <tbody>\n",
              "    <tr>\n",
              "      <th>0</th>\n",
              "      <td>0.919828</td>\n",
              "      <td>0.300015</td>\n",
              "      <td>0.048362</td>\n",
              "      <td>2.763935</td>\n",
              "      <td>-0.379055</td>\n",
              "      <td>0.606742</td>\n",
              "      <td>0.614094</td>\n",
              "      <td>0.427921</td>\n",
              "      <td>-1.214871</td>\n",
              "      <td>0.356740</td>\n",
              "      <td>0.338281</td>\n",
              "      <td>0.011740</td>\n",
              "      <td>0.341268</td>\n",
              "      <td>-0.840399</td>\n",
              "      <td>1.783500</td>\n",
              "      <td>-0.761827</td>\n",
              "      <td>-0.040918</td>\n",
              "      <td>-1.046661</td>\n",
              "      <td>-0.084155</td>\n",
              "      <td>-0.120574</td>\n",
              "      <td>-0.108429</td>\n",
              "      <td>1.998213</td>\n",
              "      <td>-0.884942</td>\n",
              "      <td>-0.182900</td>\n",
              "      <td>-0.031663</td>\n",
              "      <td>0.786872</td>\n",
              "      <td>-0.406582</td>\n",
              "      <td>-0.432917</td>\n",
              "      <td>-0.040509</td>\n",
              "      <td>0.654096</td>\n",
              "      <td>0.655662</td>\n",
              "      <td>-0.663504</td>\n",
              "      <td>-0.134193</td>\n",
              "      <td>0.115420</td>\n",
              "      <td>0.255588</td>\n",
              "      <td>1.291601</td>\n",
              "      <td>1.179144</td>\n",
              "      <td>0.224716</td>\n",
              "      <td>-0.051168</td>\n",
              "      <td>0.354292</td>\n",
              "      <td>...</td>\n",
              "      <td>-0.429633</td>\n",
              "      <td>0.269157</td>\n",
              "      <td>1.439442</td>\n",
              "      <td>0.060085</td>\n",
              "      <td>-1.403816</td>\n",
              "      <td>1.652282</td>\n",
              "      <td>0.280938</td>\n",
              "      <td>-1.432528</td>\n",
              "      <td>-0.452320</td>\n",
              "      <td>1.184581</td>\n",
              "      <td>1.060523</td>\n",
              "      <td>-0.387834</td>\n",
              "      <td>-1.656883</td>\n",
              "      <td>0.714925</td>\n",
              "      <td>1.233845</td>\n",
              "      <td>-0.302524</td>\n",
              "      <td>1.402160</td>\n",
              "      <td>-0.220485</td>\n",
              "      <td>-0.370113</td>\n",
              "      <td>-0.570453</td>\n",
              "      <td>1.189057</td>\n",
              "      <td>0.283268</td>\n",
              "      <td>-0.957661</td>\n",
              "      <td>-0.107131</td>\n",
              "      <td>-0.125455</td>\n",
              "      <td>-1.091381</td>\n",
              "      <td>-1.069686</td>\n",
              "      <td>0.365290</td>\n",
              "      <td>-0.399678</td>\n",
              "      <td>0.274768</td>\n",
              "      <td>1.173469</td>\n",
              "      <td>0.058086</td>\n",
              "      <td>0.948472</td>\n",
              "      <td>0.500531</td>\n",
              "      <td>0.497142</td>\n",
              "      <td>-1.684597</td>\n",
              "      <td>0.362345</td>\n",
              "      <td>-0.451069</td>\n",
              "      <td>-212.099347</td>\n",
              "      <td>0</td>\n",
              "    </tr>\n",
              "    <tr>\n",
              "      <th>1</th>\n",
              "      <td>0.019964</td>\n",
              "      <td>-0.481246</td>\n",
              "      <td>1.172526</td>\n",
              "      <td>-0.992944</td>\n",
              "      <td>-1.538181</td>\n",
              "      <td>0.811772</td>\n",
              "      <td>1.079590</td>\n",
              "      <td>-0.247513</td>\n",
              "      <td>0.947057</td>\n",
              "      <td>-0.939571</td>\n",
              "      <td>0.973586</td>\n",
              "      <td>-0.712094</td>\n",
              "      <td>-2.577105</td>\n",
              "      <td>0.125996</td>\n",
              "      <td>-1.968370</td>\n",
              "      <td>-0.681407</td>\n",
              "      <td>-0.494812</td>\n",
              "      <td>-0.114836</td>\n",
              "      <td>0.008152</td>\n",
              "      <td>-0.785491</td>\n",
              "      <td>0.126453</td>\n",
              "      <td>0.896049</td>\n",
              "      <td>-1.040121</td>\n",
              "      <td>1.146112</td>\n",
              "      <td>1.281930</td>\n",
              "      <td>-1.253386</td>\n",
              "      <td>-0.875900</td>\n",
              "      <td>-1.291195</td>\n",
              "      <td>1.929011</td>\n",
              "      <td>1.989551</td>\n",
              "      <td>-1.415060</td>\n",
              "      <td>1.065765</td>\n",
              "      <td>0.419620</td>\n",
              "      <td>-1.903436</td>\n",
              "      <td>0.329650</td>\n",
              "      <td>0.226360</td>\n",
              "      <td>-1.272033</td>\n",
              "      <td>-1.267028</td>\n",
              "      <td>-0.198156</td>\n",
              "      <td>-0.171023</td>\n",
              "      <td>...</td>\n",
              "      <td>-0.896937</td>\n",
              "      <td>-0.936419</td>\n",
              "      <td>0.040999</td>\n",
              "      <td>-1.155707</td>\n",
              "      <td>0.719403</td>\n",
              "      <td>0.883209</td>\n",
              "      <td>0.494590</td>\n",
              "      <td>-0.987475</td>\n",
              "      <td>-0.156562</td>\n",
              "      <td>-0.302900</td>\n",
              "      <td>0.400824</td>\n",
              "      <td>0.457059</td>\n",
              "      <td>-0.800609</td>\n",
              "      <td>0.144029</td>\n",
              "      <td>0.082412</td>\n",
              "      <td>-1.084986</td>\n",
              "      <td>0.679581</td>\n",
              "      <td>-0.377660</td>\n",
              "      <td>1.087136</td>\n",
              "      <td>0.345414</td>\n",
              "      <td>-0.368759</td>\n",
              "      <td>-0.089297</td>\n",
              "      <td>-0.368865</td>\n",
              "      <td>0.053875</td>\n",
              "      <td>1.285359</td>\n",
              "      <td>0.046499</td>\n",
              "      <td>0.806039</td>\n",
              "      <td>-2.380518</td>\n",
              "      <td>-0.689129</td>\n",
              "      <td>0.504701</td>\n",
              "      <td>0.419483</td>\n",
              "      <td>0.497006</td>\n",
              "      <td>0.295690</td>\n",
              "      <td>0.121670</td>\n",
              "      <td>0.512540</td>\n",
              "      <td>0.309631</td>\n",
              "      <td>-0.379204</td>\n",
              "      <td>0.084792</td>\n",
              "      <td>-107.265710</td>\n",
              "      <td>0</td>\n",
              "    </tr>\n",
              "    <tr>\n",
              "      <th>2</th>\n",
              "      <td>0.865797</td>\n",
              "      <td>-1.343915</td>\n",
              "      <td>1.140324</td>\n",
              "      <td>1.138575</td>\n",
              "      <td>1.428003</td>\n",
              "      <td>-0.765716</td>\n",
              "      <td>-0.582303</td>\n",
              "      <td>-1.342127</td>\n",
              "      <td>0.041908</td>\n",
              "      <td>0.507741</td>\n",
              "      <td>1.445131</td>\n",
              "      <td>-1.590236</td>\n",
              "      <td>-0.643195</td>\n",
              "      <td>-1.272339</td>\n",
              "      <td>-0.483282</td>\n",
              "      <td>0.486606</td>\n",
              "      <td>1.814880</td>\n",
              "      <td>0.459605</td>\n",
              "      <td>0.511996</td>\n",
              "      <td>-0.664768</td>\n",
              "      <td>0.225401</td>\n",
              "      <td>-1.133643</td>\n",
              "      <td>-0.019450</td>\n",
              "      <td>-1.450998</td>\n",
              "      <td>-1.149622</td>\n",
              "      <td>0.517312</td>\n",
              "      <td>0.230450</td>\n",
              "      <td>1.651383</td>\n",
              "      <td>2.343943</td>\n",
              "      <td>-0.678859</td>\n",
              "      <td>-1.151385</td>\n",
              "      <td>0.725653</td>\n",
              "      <td>-0.765523</td>\n",
              "      <td>-0.761579</td>\n",
              "      <td>0.596142</td>\n",
              "      <td>-1.741541</td>\n",
              "      <td>1.526436</td>\n",
              "      <td>0.944765</td>\n",
              "      <td>-1.715066</td>\n",
              "      <td>-2.316492</td>\n",
              "      <td>...</td>\n",
              "      <td>-0.348341</td>\n",
              "      <td>-0.260167</td>\n",
              "      <td>-0.341800</td>\n",
              "      <td>-0.135654</td>\n",
              "      <td>-0.973623</td>\n",
              "      <td>0.586943</td>\n",
              "      <td>0.483987</td>\n",
              "      <td>-0.914898</td>\n",
              "      <td>2.070152</td>\n",
              "      <td>0.691510</td>\n",
              "      <td>0.024962</td>\n",
              "      <td>1.496586</td>\n",
              "      <td>-1.862469</td>\n",
              "      <td>1.141520</td>\n",
              "      <td>1.541419</td>\n",
              "      <td>0.030718</td>\n",
              "      <td>0.000858</td>\n",
              "      <td>1.253932</td>\n",
              "      <td>1.136042</td>\n",
              "      <td>0.535097</td>\n",
              "      <td>-1.374234</td>\n",
              "      <td>1.675737</td>\n",
              "      <td>0.683966</td>\n",
              "      <td>-0.159860</td>\n",
              "      <td>0.623829</td>\n",
              "      <td>0.942050</td>\n",
              "      <td>0.550141</td>\n",
              "      <td>-0.093512</td>\n",
              "      <td>2.115945</td>\n",
              "      <td>-1.413247</td>\n",
              "      <td>-0.214724</td>\n",
              "      <td>0.424796</td>\n",
              "      <td>0.011380</td>\n",
              "      <td>-0.267272</td>\n",
              "      <td>-0.140139</td>\n",
              "      <td>1.527550</td>\n",
              "      <td>-0.659070</td>\n",
              "      <td>0.067774</td>\n",
              "      <td>55.466960</td>\n",
              "      <td>0</td>\n",
              "    </tr>\n",
              "    <tr>\n",
              "      <th>3</th>\n",
              "      <td>-1.794519</td>\n",
              "      <td>-1.047698</td>\n",
              "      <td>-0.545832</td>\n",
              "      <td>-0.644537</td>\n",
              "      <td>-0.782273</td>\n",
              "      <td>-0.795186</td>\n",
              "      <td>-0.600455</td>\n",
              "      <td>-1.204502</td>\n",
              "      <td>1.664150</td>\n",
              "      <td>-0.027708</td>\n",
              "      <td>-0.961802</td>\n",
              "      <td>2.654881</td>\n",
              "      <td>1.122150</td>\n",
              "      <td>0.169631</td>\n",
              "      <td>1.241355</td>\n",
              "      <td>0.977231</td>\n",
              "      <td>-1.116084</td>\n",
              "      <td>0.192609</td>\n",
              "      <td>0.306430</td>\n",
              "      <td>0.661553</td>\n",
              "      <td>2.149967</td>\n",
              "      <td>-0.952318</td>\n",
              "      <td>0.234161</td>\n",
              "      <td>1.986212</td>\n",
              "      <td>1.385753</td>\n",
              "      <td>1.904612</td>\n",
              "      <td>-0.643274</td>\n",
              "      <td>-1.491004</td>\n",
              "      <td>-0.349354</td>\n",
              "      <td>1.105160</td>\n",
              "      <td>0.251720</td>\n",
              "      <td>1.154856</td>\n",
              "      <td>-0.714843</td>\n",
              "      <td>-1.300630</td>\n",
              "      <td>0.436735</td>\n",
              "      <td>-0.808368</td>\n",
              "      <td>-0.474111</td>\n",
              "      <td>-0.987518</td>\n",
              "      <td>-0.035170</td>\n",
              "      <td>0.021072</td>\n",
              "      <td>...</td>\n",
              "      <td>1.229002</td>\n",
              "      <td>0.627872</td>\n",
              "      <td>2.244679</td>\n",
              "      <td>1.105321</td>\n",
              "      <td>0.097543</td>\n",
              "      <td>-0.193326</td>\n",
              "      <td>-0.035723</td>\n",
              "      <td>2.050296</td>\n",
              "      <td>1.249485</td>\n",
              "      <td>0.819174</td>\n",
              "      <td>0.321889</td>\n",
              "      <td>-0.262871</td>\n",
              "      <td>0.683263</td>\n",
              "      <td>-0.812574</td>\n",
              "      <td>0.743332</td>\n",
              "      <td>-0.100289</td>\n",
              "      <td>0.299770</td>\n",
              "      <td>-0.235127</td>\n",
              "      <td>-1.081901</td>\n",
              "      <td>1.016174</td>\n",
              "      <td>-0.062704</td>\n",
              "      <td>-0.889490</td>\n",
              "      <td>1.472747</td>\n",
              "      <td>-0.419567</td>\n",
              "      <td>0.578437</td>\n",
              "      <td>-0.469692</td>\n",
              "      <td>-1.321426</td>\n",
              "      <td>-0.443848</td>\n",
              "      <td>0.337763</td>\n",
              "      <td>0.686534</td>\n",
              "      <td>1.079857</td>\n",
              "      <td>1.500799</td>\n",
              "      <td>0.498398</td>\n",
              "      <td>0.324255</td>\n",
              "      <td>-0.708524</td>\n",
              "      <td>-0.508512</td>\n",
              "      <td>0.882207</td>\n",
              "      <td>0.672056</td>\n",
              "      <td>148.145468</td>\n",
              "      <td>0</td>\n",
              "    </tr>\n",
              "    <tr>\n",
              "      <th>4</th>\n",
              "      <td>-0.461982</td>\n",
              "      <td>0.724045</td>\n",
              "      <td>-1.898327</td>\n",
              "      <td>0.064194</td>\n",
              "      <td>1.257753</td>\n",
              "      <td>-1.405789</td>\n",
              "      <td>1.381035</td>\n",
              "      <td>0.508476</td>\n",
              "      <td>0.695158</td>\n",
              "      <td>-1.403520</td>\n",
              "      <td>1.639334</td>\n",
              "      <td>-0.812774</td>\n",
              "      <td>0.744021</td>\n",
              "      <td>0.839353</td>\n",
              "      <td>-1.877401</td>\n",
              "      <td>-1.962943</td>\n",
              "      <td>0.468519</td>\n",
              "      <td>-0.054091</td>\n",
              "      <td>1.667093</td>\n",
              "      <td>-1.278770</td>\n",
              "      <td>-0.668121</td>\n",
              "      <td>-1.173430</td>\n",
              "      <td>1.595890</td>\n",
              "      <td>-0.375237</td>\n",
              "      <td>0.022920</td>\n",
              "      <td>-0.145463</td>\n",
              "      <td>-1.014632</td>\n",
              "      <td>-0.942461</td>\n",
              "      <td>0.606240</td>\n",
              "      <td>-0.753172</td>\n",
              "      <td>-0.277989</td>\n",
              "      <td>-0.706759</td>\n",
              "      <td>-1.519835</td>\n",
              "      <td>0.652837</td>\n",
              "      <td>2.517464</td>\n",
              "      <td>0.443863</td>\n",
              "      <td>-0.965057</td>\n",
              "      <td>-0.573255</td>\n",
              "      <td>-0.584151</td>\n",
              "      <td>0.514000</td>\n",
              "      <td>...</td>\n",
              "      <td>-0.058870</td>\n",
              "      <td>0.315167</td>\n",
              "      <td>0.281719</td>\n",
              "      <td>-0.026075</td>\n",
              "      <td>-0.284435</td>\n",
              "      <td>-0.388729</td>\n",
              "      <td>0.267273</td>\n",
              "      <td>-0.872422</td>\n",
              "      <td>-0.093078</td>\n",
              "      <td>-0.504427</td>\n",
              "      <td>-1.674556</td>\n",
              "      <td>0.183234</td>\n",
              "      <td>-0.401459</td>\n",
              "      <td>-1.647789</td>\n",
              "      <td>0.142317</td>\n",
              "      <td>-0.825596</td>\n",
              "      <td>0.112334</td>\n",
              "      <td>-0.735338</td>\n",
              "      <td>-0.076230</td>\n",
              "      <td>0.436600</td>\n",
              "      <td>-0.266018</td>\n",
              "      <td>1.178307</td>\n",
              "      <td>0.209006</td>\n",
              "      <td>-0.391799</td>\n",
              "      <td>-1.672039</td>\n",
              "      <td>-1.544120</td>\n",
              "      <td>-0.277392</td>\n",
              "      <td>-0.089770</td>\n",
              "      <td>0.191309</td>\n",
              "      <td>1.223749</td>\n",
              "      <td>0.568744</td>\n",
              "      <td>-0.954193</td>\n",
              "      <td>1.245018</td>\n",
              "      <td>-2.316983</td>\n",
              "      <td>-0.847576</td>\n",
              "      <td>1.044352</td>\n",
              "      <td>-0.973314</td>\n",
              "      <td>1.052340</td>\n",
              "      <td>-244.440619</td>\n",
              "      <td>0</td>\n",
              "    </tr>\n",
              "  </tbody>\n",
              "</table>\n",
              "<p>5 rows × 102 columns</p>\n",
              "</div>"
            ],
            "text/plain": [
              "          0         1         2  ...        99      target  kfold\n",
              "0  0.919828  0.300015  0.048362  ... -0.451069 -212.099347      0\n",
              "1  0.019964 -0.481246  1.172526  ...  0.084792 -107.265710      0\n",
              "2  0.865797 -1.343915  1.140324  ...  0.067774   55.466960      0\n",
              "3 -1.794519 -1.047698 -0.545832  ...  0.672056  148.145468      0\n",
              "4 -0.461982  0.724045 -1.898327  ...  1.052340 -244.440619      0\n",
              "\n",
              "[5 rows x 102 columns]"
            ]
          },
          "metadata": {},
          "execution_count": 68
        }
      ]
    },
    {
      "cell_type": "code",
      "metadata": {
        "colab": {
          "base_uri": "https://localhost:8080/"
        },
        "id": "G_dUQdqNntRr",
        "outputId": "c4abe6f5-c297-4d04-fea2-f67a8d84bb1f"
      },
      "source": [
        "df['kfold'].value_counts()"
      ],
      "execution_count": 71,
      "outputs": [
        {
          "output_type": "execute_result",
          "data": {
            "text/plain": [
              "4    30000\n",
              "3    30000\n",
              "2    30000\n",
              "1    30000\n",
              "0    30000\n",
              "Name: kfold, dtype: int64"
            ]
          },
          "metadata": {},
          "execution_count": 71
        }
      ]
    },
    {
      "cell_type": "markdown",
      "metadata": {
        "id": "jUJl33NoqX1I"
      },
      "source": [
        "# Evaluation Metrics"
      ]
    },
    {
      "cell_type": "markdown",
      "metadata": {
        "id": "ogR1snYZrvA3"
      },
      "source": [
        "Classification:\n",
        "- Accuracy\n",
        "- Precision (P)\n",
        "- Recall (R)\n",
        "- F1 score (F1)\n",
        "- Area under the ROC (Receiver Operating Characteristic) curve or simply\n",
        "AUC (AUC)\n",
        "- Log loss\n",
        "- Precision at k (P@k)\n",
        "- Average precision at k (AP@k)\n",
        "- Mean average precision at k (MAP@k)\n",
        "\n",
        "Regression:\n",
        "- Mean absolute error (MAE)\n",
        "- Mean squared error (MSE)\n",
        "- Root mean squared error (RMSE)\n",
        "- Root mean squared logarithmic error (RMSLE)\n",
        "- Mean percentage error (MPE)\n",
        "- Mean absolute percentage error (MAPE)\n",
        "- R2"
      ]
    },
    {
      "cell_type": "markdown",
      "metadata": {
        "id": "ZdsuJvxfrBWG"
      },
      "source": [
        "When we have an **equal number of samples** in a **binary classification** metric, we generally use **accuracy, precision, recall and f1.**\n",
        "\n",
        "If skewed, use **precision** and other metrics"
      ]
    },
    {
      "cell_type": "code",
      "metadata": {
        "id": "oc3qz7IRrrqf"
      },
      "source": [
        "?? metrics.accuracy_score"
      ],
      "execution_count": 73,
      "outputs": []
    },
    {
      "cell_type": "markdown",
      "metadata": {
        "id": "nKgeN4h8sDIg"
      },
      "source": [
        "## Precision recall curve\n",
        "\n",
        "Most of the models predict a probability, and when we predict, **we usually choose this threshold to be 0.5** . This threshold is not always ideal, and **depending on this threshold, your value of precision and recall can change drastically**. If for every\n",
        "threshold we choose, we calculate the precision and recall values, we can create a\n",
        "plot between these sets of values. This plot or curve is known as the precision-recall\n",
        "curve."
      ]
    },
    {
      "cell_type": "code",
      "metadata": {
        "id": "uQ3fqLz5tsHF"
      },
      "source": [
        "y_true = np.array([0, 0, 0, 1, 0, 0, 0, 0, 0, 0, 1, 0, 0, 0, 0, 0, 0, 0, 1, 0])\n",
        "y_pred = np.array([0.02638412, 0.11114267, 0.31620708, \n",
        "                   0.0490937, 0.0191491, 0.17554844, \n",
        "                   0.15952202, 0.03819563, 0.11639273, \n",
        "                   0.079377, 0.08584789, 0.39095342, \n",
        "                   0.27259048, 0.03447096, 0.04644807, \n",
        "                   0.03543574, 0.18521942, 0.05934905, \n",
        "                   0.61977213, 0.33056815])\n",
        "\n",
        "\n",
        "assert len(y_true) == len(y_pred)"
      ],
      "execution_count": 77,
      "outputs": []
    },
    {
      "cell_type": "code",
      "metadata": {
        "colab": {
          "base_uri": "https://localhost:8080/",
          "height": 677
        },
        "id": "DGoKEyBRvCQb",
        "outputId": "66f7d963-04bf-49c0-a4b5-6c343580b0cb"
      },
      "source": [
        "precisions, recalls = [], []\n",
        "\n",
        "thresholds = [0.0490937 , 0.05934905, 0.079377,\n",
        "            0.08584789, 0.11114267, 0.11639273,\n",
        "            0.15952202, 0.17554844, 0.18521942,\n",
        "            0.27259048, 0.31620708, 0.33056815,\n",
        "            0.39095342, 0.61977213]\n",
        "\n",
        "\n",
        "for t in thresholds:\n",
        "    preds = (y_pred > t).astype(int)\n",
        "    p = metrics.precision_score(y_true=y_true, y_pred=preds)\n",
        "    r = metrics.recall_score(y_true=y_true, y_pred=preds)\n",
        "    precisions.append(p)\n",
        "    recalls.append(r)\n",
        "\n",
        "# Plot\n",
        "plt.figure(figsize=(10,10))\n",
        "plt.plot(recalls, precisions)\n",
        "plt.scatter(recalls, precisions, c='r')\n",
        "plt.xlabel('recall', fontsize=15)\n",
        "plt.ylabel('precision',  fontsize=15)\n",
        "plt.show()"
      ],
      "execution_count": 85,
      "outputs": [
        {
          "output_type": "stream",
          "name": "stderr",
          "text": [
            "/usr/local/lib/python3.7/dist-packages/sklearn/metrics/_classification.py:1272: UndefinedMetricWarning: Precision is ill-defined and being set to 0.0 due to no predicted samples. Use `zero_division` parameter to control this behavior.\n",
            "  _warn_prf(average, modifier, msg_start, len(result))\n"
          ]
        },
        {
          "output_type": "display_data",
          "data": {
            "image/png": "[encoded data removed]",
            "text/plain": [
              "<Figure size 720x720 with 1 Axes>"
            ]
          },
          "metadata": {}
        }
      ]
    },
    {
      "cell_type": "markdown",
      "metadata": {
        "id": "BpuLbanmvkRS"
      },
      "source": [
        "### F1 Score\n",
        "F1 = 2PR / (P + R)"
      ]
    },
    {
      "cell_type": "markdown",
      "metadata": {
        "id": "26s2jbYvxEFO"
      },
      "source": [
        "### TPR (Sensitivity / Recall)\n",
        "\n",
        "\n",
        "\n",
        "TPR = TP / (TP + FN)"
      ]
    },
    {
      "cell_type": "markdown",
      "metadata": {
        "id": "qkTxUWI3xX4I"
      },
      "source": [
        "### FPR \n",
        "FPR = FP / (TN + FP)"
      ]
    },
    {
      "cell_type": "markdown",
      "metadata": {
        "id": "11QtDJOQxvQ4"
      },
      "source": [
        "### 1 - FPR (Specificity / TNR / True Negative Rate )"
      ]
    },
    {
      "cell_type": "markdown",
      "metadata": {
        "id": "28wOm3sUx9ew"
      },
      "source": [
        "### What does AUC say about our model?\n",
        "\n",
        "Suppose you get an AUC of 0.85 when you build a model to detect pneumothorax\n",
        "from chest x-ray images. This means that if you select a random image from your\n",
        "dataset with pneumothorax (positive sample) and another random image without\n",
        "pneumothorax (negative sample), then the pneumothorax image will rank higher\n",
        "than a non-pneumothorax image with a probability of 0.85."
      ]
    },
    {
      "cell_type": "markdown",
      "metadata": {
        "id": "v5IdlLRvymLg"
      },
      "source": [
        "### Log loss\n",
        "\n",
        "`log_loss = - 1.0 * ( target * log(pred) + (1 - target) * log(1 - pred))`\n",
        "\n",
        "Where target is either 0 or 1 and prediction is a probability of a sample belonging\n",
        "to class 1.\n",
        "\n",
        "Log loss punishes you for being very sure and very wrong."
      ]
    },
    {
      "cell_type": "code",
      "metadata": {
        "id": "P15OkC9M3AY1"
      },
      "source": [
        ""
      ],
      "execution_count": null,
      "outputs": []
    }
  ]
}